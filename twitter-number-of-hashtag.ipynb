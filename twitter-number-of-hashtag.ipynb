{
 "cells": [
  {
   "cell_type": "code",
   "execution_count": 1,
   "metadata": {},
   "outputs": [],
   "source": [
    "# !pip install pymongo\n",
    "\n",
    "import warnings\n",
    "warnings.filterwarnings(\"ignore\", category=DeprecationWarning)\n",
    "\n",
    "import configparser \n",
    "config = configparser.ConfigParser()\n",
    "config.read('config.ini')\n",
    "ip = config['DEFAULT']['IP']\n",
    "port = config['DEFAULT']['MongoDB-Port']\n",
    "\n",
    "from pymongo import MongoClient\n",
    "client = MongoClient(ip, int(port))"
   ]
  },
  {
   "cell_type": "code",
   "execution_count": 2,
   "metadata": {},
   "outputs": [],
   "source": [
    "db_twitter = client[\"Twitter\"]"
   ]
  },
  {
   "cell_type": "code",
   "execution_count": 3,
   "metadata": {},
   "outputs": [],
   "source": [
    "# define search terms\n",
    "search_terms = [\"#metoo\", \"#timesup\", \"#violenceagainstwomen\", \"#genderequality\", \"#domesticviolence\", \"domestic violence\"]"
   ]
  },
  {
   "cell_type": "code",
   "execution_count": 4,
   "metadata": {},
   "outputs": [
    {
     "name": "stdout",
     "output_type": "stream",
     "text": [
      "twitter-australia-#metoo : 32\n",
      "twitter-australia-#timesup : 2\n",
      "twitter-australia-#violenceagainstwomen : 1\n",
      "twitter-australia-#genderequality : 7\n",
      "twitter-australia-#domesticviolence : 4\n",
      "twitter-australia-domestic violence : 86\n"
     ]
    }
   ],
   "source": [
    "# calculate the number of each term in twitter-australia using text index\n",
    "tweets_australia = {}\n",
    "for term in search_terms:\n",
    "    tweets_australia[term] = list(db_twitter[\"twitter-australia\"].find({\"$text\": {\"$search\": \"\\\"\" + term + \"\\\"\", \"$caseSensitive\": False}}))\n",
    "    print(\"twitter-australia-\" + term, ':', len(tweets_australia[term]))"
   ]
  },
  {
   "cell_type": "code",
   "execution_count": 5,
   "metadata": {},
   "outputs": [
    {
     "name": "stdout",
     "output_type": "stream",
     "text": [
      "twitter-other-#metoo : 6127\n",
      "twitter-other-#timesup : 405\n",
      "twitter-other-#violenceagainstwomen : 21\n",
      "twitter-other-#genderequality : 256\n",
      "twitter-other-#domesticviolence : 146\n",
      "twitter-other-domestic violence : 2512\n"
     ]
    }
   ],
   "source": [
    "# calculate the number of each term in twitter-other using text index\n",
    "tweets_other = {}\n",
    "for term in search_terms:\n",
    "    tweets_other[term] = list(db_twitter[\"twitter-other\"].find({\"$text\": {\"$search\": \"\\\"\" + term + \"\\\"\", \"$caseSensitive\": False}}))\n",
    "    print(\"twitter-other-\" + term, ':', len(tweets_other[term]))"
   ]
  },
  {
   "cell_type": "code",
   "execution_count": null,
   "metadata": {},
   "outputs": [],
   "source": []
  }
 ],
 "metadata": {
  "kernelspec": {
   "display_name": "Python 3",
   "language": "python",
   "name": "python3"
  },
  "language_info": {
   "codemirror_mode": {
    "name": "ipython",
    "version": 3
   },
   "file_extension": ".py",
   "mimetype": "text/x-python",
   "name": "python",
   "nbconvert_exporter": "python",
   "pygments_lexer": "ipython3",
   "version": "3.6.4"
  }
 },
 "nbformat": 4,
 "nbformat_minor": 2
}
