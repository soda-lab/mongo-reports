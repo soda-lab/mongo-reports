{
 "cells": [
  {
   "cell_type": "code",
   "execution_count": null,
   "metadata": {},
   "outputs": [],
   "source": [
    "# !pip install pymongo\n",
    "\n",
    "import warnings\n",
    "warnings.filterwarnings(\"ignore\", category=DeprecationWarning)\n",
    "\n",
    "import configparser \n",
    "config = configparser.ConfigParser()\n",
    "config.read('config.ini')\n",
    "ip = config['DEFAULT']['IP']\n",
    "port = config['DEFAULT']['MongoDB-Port']\n",
    "\n",
    "from pymongo import MongoClient\n",
    "client = MongoClient(ip, int(port))"
   ]
  },
  {
   "cell_type": "code",
   "execution_count": null,
   "metadata": {},
   "outputs": [],
   "source": [
    "db_twitter = client[\"Twitter\"]"
   ]
  },
  {
   "cell_type": "code",
   "execution_count": null,
   "metadata": {},
   "outputs": [],
   "source": [
    "keywords = ['family violence', 'domestic violence', '#vaw', '#evaw', '#pvw', '#toxicmasculinity', '#slutshaming', '#notallmen', '#malechampionsofchange', '#namalt', '#feminazi', '#tinderslut', 'Luke Batty', 'Rosie Batty', 'Eurydice Dixon', '@OurWatchAus', '#stopitatthestart', '#freefromviolence', '#howiwillchange', '#respectwomen', '#callitout', '#orangecard']\n",
    "for i in keywords:\n",
    "    print(\"twitter-temp-\" + i + \": {:,}\".format(db_twitter[\"twitter-temp\"].find({\"doc.text\":{\"$regex\":\".*\"+i+\".*\", '$options' : 'i'}}).count()))"
   ]
  },
  {
   "cell_type": "code",
   "execution_count": null,
   "metadata": {},
   "outputs": [],
   "source": [
    "for i in keywords:\n",
    "    print(\"twitter-other-\" + i + \": {:,}\".format(db_twitter[\"twitter-other\"].find({\"text\":{\"$regex\":\".*\"+i+\".*\", '$options' : 'i'}}).count()))"
   ]
  },
  {
   "cell_type": "code",
   "execution_count": null,
   "metadata": {},
   "outputs": [],
   "source": [
    "search_terms = [\"#metoo\", \"#timesup\", \"#violenceagainstwomen\", \"#genderequality\", \"#domesticviolence\", \"#domestic violence\"]"
   ]
  },
  {
   "cell_type": "code",
   "execution_count": null,
   "metadata": {},
   "outputs": [],
   "source": [
    "tweets_australia = {}\n",
    "for term in search_terms:\n",
    "    tweets_australia[term] = list(db_twitter[\"twitter-australia\"].find({\"$text\": {\"$search\": \"\\\"\" + term + \"\\\"\", \"$caseSensitive\": False}}))\n",
    "    print(\"twitter-australia-\" + term, ':', len(tweets_australia[term]))"
   ]
  },
  {
   "cell_type": "code",
   "execution_count": null,
   "metadata": {},
   "outputs": [],
   "source": [
    "tweets_other = {}\n",
    "for term in search_terms:\n",
    "    tweets_other[term] = list(db_twitter[\"twitter-other\"].find({\"$text\": {\"$search\": \"\\\"\" + term + \"\\\"\", \"$caseSensitive\": False}}))\n",
    "    print(\"twitter-other-\" + term, ':', len(tweets_other[term]))"
   ]
  }
 ],
 "metadata": {
  "kernelspec": {
   "display_name": "Python 3",
   "language": "python",
   "name": "python3"
  },
  "language_info": {
   "codemirror_mode": {
    "name": "ipython",
    "version": 3
   },
   "file_extension": ".py",
   "mimetype": "text/x-python",
   "name": "python",
   "nbconvert_exporter": "python",
   "pygments_lexer": "ipython3",
   "version": "3.6.4"
  }
 },
 "nbformat": 4,
 "nbformat_minor": 2
}
