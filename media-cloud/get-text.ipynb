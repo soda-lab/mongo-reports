{
 "cells": [
  {
   "cell_type": "code",
   "execution_count": 1,
   "metadata": {},
   "outputs": [
    {
     "name": "stdout",
     "output_type": "stream",
     "text": [
      "stories_id                                                     318546961\n",
      "publish_date                                                  2015/02/13\n",
      "title                  Smartphone app to reduce family violence for t...\n",
      "url                    http://theage.com.au/victoria/smartphone-app-t...\n",
      "language                                                              en\n",
      "ap_syndicated                                                      False\n",
      "themes                    medicine and health, women, children and youth\n",
      "media_id                                                           19197\n",
      "media_name                                                       The Age\n",
      "media_url                                       http://www.theage.com.au\n",
      "media_pub_country                                              Australia\n",
      "media_pub_state                                      Victoria, Australia\n",
      "media_language                                                   English\n",
      "media_about_country                            Commonwealth of Australia\n",
      "media_media_type                                            Print Native\n",
      "Name: 0, dtype: object\n",
      "stories_id                                                     318546961\n",
      "publish_date                                                  2015/02/13\n",
      "title                  Smartphone app to reduce family violence for t...\n",
      "url                    http://theage.com.au/victoria/smartphone-app-t...\n",
      "language                                                              en\n",
      "ap_syndicated                                                      False\n",
      "themes                    medicine and health, women, children and youth\n",
      "media_id                                                           19197\n",
      "media_name                                                       The Age\n",
      "media_url                                       http://www.theage.com.au\n",
      "media_pub_country                                              Australia\n",
      "media_pub_state                                      Victoria, Australia\n",
      "media_language                                                   English\n",
      "media_about_country                            Commonwealth of Australia\n",
      "media_media_type                                            Print Native\n",
      "Name: 0, dtype: object\n"
     ]
    }
   ],
   "source": [
    "import requests\n",
    "from bs4 import BeautifulSoup\n",
    "import pandas as pd\n",
    "\n",
    "file_names = ['../input/'+name for name in [\n",
    "    'domestic-violence-stories (8640).csv',  \n",
    "    'family-violence-stories (4014).csv'\n",
    "]]\n",
    "\n",
    "for file_name in file_names:\n",
    "    df = pd.read_csv(file_name)\n",
    "    for _, row in df.iterrows():\n",
    "        url = row['url']\n",
    "        try:\n",
    "            if '/?nk=' in url:\n",
    "                continue\n",
    "                \n",
    "            html = requests.get(url).text\n",
    "            soup = BeautifulSoup(html)\n",
    "\n",
    "            print(url)\n",
    "            text = ''\n",
    "            for p in soup.find_all('p'):\n",
    "                if p.parent.get('class') == ['section']:\n",
    "                    continue\n",
    "                if p.get('class') == ['_2g0-m']:\n",
    "                    continue\n",
    "                sentence = p.get_text().strip()\n",
    "                if (not sentence.startswith('A NOTE ABOUT RELEVANT ADVERTISING') and\n",
    "                    not sentence.startswith('If you have inside knowledge') and\n",
    "                    not sentence.startswith('ABC teams share the story') and\n",
    "                    not sentence.startswith('Read about our editorial') and\n",
    "                    not sentence.startswith('Sign up to receive')\n",
    "                   ) and (\n",
    "                    sentence.endswith('.') or \n",
    "                    sentence.endswith(\"'\") or\n",
    "                    sentence.endswith('\"') or\n",
    "                    sentence.endswith(\"?\") or\n",
    "                    sentence.endswith(\"!\") or\n",
    "                    sentence.endswith(\";\") or\n",
    "                    sentence.endswith(\",\") or\n",
    "                    sentence.endswith(\")\") or\n",
    "                    sentence.endswith(\":\")\n",
    "                ):\n",
    "                    text += sentence + '\\n'\n",
    "\n",
    "            print(text)\n",
    "        except:\n",
    "            pass"
   ]
  },
  {
   "cell_type": "code",
   "execution_count": null,
   "metadata": {},
   "outputs": [],
   "source": []
  }
 ],
 "metadata": {
  "kernelspec": {
   "display_name": "Python 3",
   "language": "python",
   "name": "python3"
  },
  "language_info": {
   "codemirror_mode": {
    "name": "ipython",
    "version": 3
   },
   "file_extension": ".py",
   "mimetype": "text/x-python",
   "name": "python",
   "nbconvert_exporter": "python",
   "pygments_lexer": "ipython3",
   "version": "3.7.2"
  }
 },
 "nbformat": 4,
 "nbformat_minor": 2
}
