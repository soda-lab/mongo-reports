{
 "cells": [
  {
   "cell_type": "code",
   "execution_count": 1,
   "metadata": {},
   "outputs": [],
   "source": [
    "import configparser\n",
    "import warnings\n",
    "from pymongo import MongoClient\n",
    "\n",
    "warnings.filterwarnings(\"ignore\", category=DeprecationWarning)\n",
    "\n",
    "config = configparser.ConfigParser()\n",
    "config.read('../config.ini')\n",
    "host = config['DEFAULT']['IP']\n",
    "port = config['DEFAULT']['MongoDB-Port']\n",
    "\n",
    "client = MongoClient(host, int(port))\n",
    "db = client['Media-cloud']"
   ]
  },
  {
   "cell_type": "code",
   "execution_count": 2,
   "metadata": {},
   "outputs": [],
   "source": [
    "import requests\n",
    "from bs4 import BeautifulSoup\n",
    "import pandas as pd\n",
    "\n",
    "file_names = [\n",
    "    'domestic-violence-stories (8640).csv',  \n",
    "    'family-violence-stories (4014).csv'\n",
    "]\n",
    "\n",
    "in_path = '../input/'\n",
    "out_path = '../output/'"
   ]
  },
  {
   "cell_type": "code",
   "execution_count": 20,
   "metadata": {},
   "outputs": [],
   "source": [
    "def get_text(url):\n",
    "    if '/?nk=' in url:\n",
    "        return ''\n",
    "        \n",
    "    text = ''\n",
    "    try:\n",
    "        html = requests.get(url).text\n",
    "        soup = BeautifulSoup(html)\n",
    "\n",
    "        for p in soup.find_all('p'):\n",
    "            if p.parent.get('class') == ['section']:\n",
    "                continue\n",
    "            if p.get('class') == ['_2g0-m']:\n",
    "                continue\n",
    "            sentence = p.get_text().strip()\n",
    "            if (not sentence.startswith('A NOTE ABOUT RELEVANT ADVERTISING') and\n",
    "                not sentence.startswith('If you have inside knowledge') and\n",
    "                not sentence.startswith('ABC teams share the story') and\n",
    "                not sentence.startswith('Read about our editorial') and\n",
    "                not sentence.startswith('Sign up to receive')\n",
    "               ) and (\n",
    "                sentence.endswith('.') or \n",
    "                sentence.endswith(\"'\") or\n",
    "                sentence.endswith('\"') or\n",
    "                sentence.endswith(\"?\") or\n",
    "                sentence.endswith(\"!\") or\n",
    "                sentence.endswith(\";\") or\n",
    "                sentence.endswith(\",\") or\n",
    "                sentence.endswith(\")\") or\n",
    "                sentence.endswith(\":\")\n",
    "            ):\n",
    "                text += sentence + ' '\n",
    "                \n",
    "        return text.strip()\n",
    "    except:\n",
    "        return text.strip()"
   ]
  },
  {
   "cell_type": "code",
   "execution_count": null,
   "metadata": {},
   "outputs": [],
   "source": [
    "import json\n",
    "\n",
    "df = pd.read_csv(in_path+file_names[0])\n",
    "df['text'] = ''\n",
    "for i, row in df.iterrows():\n",
    "    url = row['url']\n",
    "    df.at[i, 'text'] = get_text(url)\n",
    "\n",
    "col = db['domestic-violence']\n",
    "records = json.loads(df.to_json(orient='records'))\n",
    "for record in records:\n",
    "    col.insert_one(record)\n",
    "    \n",
    "df = pd.read_csv(in_path+file_names[1])\n",
    "df['text'] = ''\n",
    "for i, row in df.iterrows():\n",
    "    url = row['url']\n",
    "    df.at[i, 'text'] = get_text(url)\n",
    "\n",
    "col = db['family-violence']\n",
    "records = json.loads(df.to_json(orient='records'))\n",
    "for record in records:\n",
    "    col.insert_one(record)"
   ]
  },
  {
   "cell_type": "code",
   "execution_count": null,
   "metadata": {},
   "outputs": [],
   "source": []
  }
 ],
 "metadata": {
  "kernelspec": {
   "display_name": "Python 3",
   "language": "python",
   "name": "python3"
  },
  "language_info": {
   "codemirror_mode": {
    "name": "ipython",
    "version": 3
   },
   "file_extension": ".py",
   "mimetype": "text/x-python",
   "name": "python",
   "nbconvert_exporter": "python",
   "pygments_lexer": "ipython3",
   "version": "3.7.2"
  }
 },
 "nbformat": 4,
 "nbformat_minor": 2
}
