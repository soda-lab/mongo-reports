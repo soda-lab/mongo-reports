{
 "cells": [
  {
   "cell_type": "code",
   "execution_count": null,
   "metadata": {},
   "outputs": [],
   "source": [
    "# media id - 7\n",
    "# media name - 8\n",
    "\n",
    "file_names = [\n",
    "    'domestic-violence-stories (8640).csv', \n",
    "    'family-violence-stories (4014).csv'\n",
    "]"
   ]
  },
  {
   "cell_type": "code",
   "execution_count": null,
   "metadata": {},
   "outputs": [],
   "source": [
    "import plotly.plotly as py\n",
    "import plotly\n",
    "import plotly.graph_objs as go\n",
    "import configparser\n",
    "import warnings\n",
    "import csv \n",
    "import plotly.plotly as py\n",
    "import plotly.graph_objs as go\n",
    "import pandas as pd\n",
    "\n",
    "warnings.filterwarnings(\"ignore\", category=DeprecationWarning)\n",
    "# warnings.filterwarnings(\"ignore\", category=UserWarning)\n",
    "\n",
    "config = configparser.ConfigParser()\n",
    "config.read('../config.ini')\n",
    "py_username = config['PLOTLY']['Username']\n",
    "py_key = config['PLOTLY']['Key']\n",
    "\n",
    "plotly.tools.set_credentials_file(username=py_username, api_key=py_key)"
   ]
  },
  {
   "cell_type": "code",
   "execution_count": null,
   "metadata": {},
   "outputs": [],
   "source": [
    "import numpy as np\n",
    "\n",
    "\n",
    "def generate_color(n):\n",
    "    color = []\n",
    "    for i in range(n):\n",
    "        string = 'rgb('\n",
    "        string += str(int(np.random.rand()*255)) + ', '\n",
    "        string += str(int(np.random.rand()*255)) + ', '\n",
    "        string += str(int(np.random.rand()*255)) + ')'\n",
    "        color.append(string)\n",
    "    return color"
   ]
  },
  {
   "cell_type": "code",
   "execution_count": null,
   "metadata": {},
   "outputs": [],
   "source": [
    "def transform_url(url):\n",
    "    url = url[url.index('://')+3:]\n",
    "    url = url[:url.index('/')]\n",
    "    if url.startswith('www'):\n",
    "        url = url[url.index('www')+4:]\n",
    "    return url"
   ]
  },
  {
   "cell_type": "code",
   "execution_count": null,
   "metadata": {},
   "outputs": [],
   "source": [
    "def generate_data_frame(file_name):\n",
    "    media_counts = {}\n",
    "    with open('../input/'+file_name, 'r') as f:\n",
    "        reader = csv.reader(f)\n",
    "        for row in reader:\n",
    "            if row[0] != 'stories_id':\n",
    "                media_name = transform_url(row[3])\n",
    "                media_counts[media_name] = media_counts.get(media_name, 0) + 1\n",
    "                \n",
    "    df = pd.Series(media_counts).to_frame('count')\n",
    "    n = df.shape[0]\n",
    "    num_stories = df['count'].sum(axis=0)\n",
    "    \n",
    "    return df, n, num_stories"
   ]
  },
  {
   "cell_type": "code",
   "execution_count": null,
   "metadata": {},
   "outputs": [],
   "source": [
    "def list_media_sources(file_name):\n",
    "    \n",
    "    df, n, num_stories = generate_data_frame(file_name)\n",
    "    \n",
    "    df.sort_values(by='count', ascending=False, inplace=True)\n",
    "    print('\\n'+file_name+'\\nNumber of media sources:', n)\n",
    "    print(num_stories)\n",
    "    print(df)"
   ]
  },
  {
   "cell_type": "code",
   "execution_count": null,
   "metadata": {},
   "outputs": [],
   "source": [
    "for name in file_names:\n",
    "    list_media_sources(name)"
   ]
  },
  {
   "cell_type": "code",
   "execution_count": null,
   "metadata": {},
   "outputs": [],
   "source": [
    "def generate_bubble_chart(file_name):\n",
    "    \n",
    "    df, n, num_stories = generate_data_frame(file_name)\n",
    "    \n",
    "    df.sort_index(inplace=True)\n",
    "    color = generate_color(n)\n",
    "    opacity = [1] * n\n",
    "    size = [(value/10) for value in df['count'].values]\n",
    "    text = df.index.tolist()\n",
    "    \n",
    "    trace0 = go.Scatter(\n",
    "        x = df.index.tolist(),\n",
    "        y = df['count'].tolist(),\n",
    "        text = text,\n",
    "        mode = 'markers',\n",
    "        marker = dict(\n",
    "           color = color,\n",
    "           opacity = opacity,\n",
    "           size = size\n",
    "        )\n",
    "    )\n",
    "    data = [trace0]\n",
    "    py.iplot(data, filename=file_name, title='Num of stories from each media')"
   ]
  },
  {
   "cell_type": "code",
   "execution_count": null,
   "metadata": {},
   "outputs": [],
   "source": [
    "for name in file_names:\n",
    "    generate_bubble_chart(name)"
   ]
  },
  {
   "cell_type": "code",
   "execution_count": 49,
   "metadata": {},
   "outputs": [],
   "source": [
    "import datetime\n",
    "import matplotlib.pyplot as plt\n",
    "\n",
    "\n",
    "def generate_bar_chart(file_name):\n",
    "    df, _, _ = generate_data_frame(file_name)\n",
    "    df.sort_values(by='count', ascending=False, inplace=True)\n",
    "    top_medias = df.index.tolist()[:5]\n",
    "    \n",
    "    print('\\n'+file_name+'\\n'+'Top 5 media:')\n",
    "    for media in top_medias:\n",
    "        print(media)\n",
    "    \n",
    "    df = pd.read_csv('../input/'+file_name)\n",
    "    \n",
    "    start_year = 2014\n",
    "    end_year = 2018\n",
    "    \n",
    "    counts_by_year = []\n",
    "    for i in range(len(top_medias)):\n",
    "        counts_by_year.append([0]*(end_year - start_year + 1))\n",
    "        \n",
    "    for _, row in df.iterrows():\n",
    "        url = transform_url(row['url'])\n",
    "        if  url in top_medias:\n",
    "            index = top_medias.index(url)\n",
    "\n",
    "            try:\n",
    "                date = row['publish_date']\n",
    "                datetime_object = datetime.datetime.strptime(date, '%Y/%m/%d')\n",
    "                year = datetime_object.year\n",
    "                if year >= start_year and year <= end_year:\n",
    "                    counts_by_year[index][year-start_year] += 1\n",
    "            except:\n",
    "                pass\n",
    "\n",
    "    N = end_year - start_year + 1\n",
    "    ind = np.arange(N)    # the x locations for the groups\n",
    "    width = 0.35      # the width of the bars: can also be len(x) sequence\n",
    "\n",
    "    count_0 = np.array(counts_by_year[0])\n",
    "    count_1 = np.array(counts_by_year[1])\n",
    "    count_2 = np.array(counts_by_year[2])\n",
    "    count_3 = np.array(counts_by_year[3])\n",
    "    count_4 = np.array(counts_by_year[4])\n",
    "    \n",
    "    plt.figure(figsize=(24,12))\n",
    "    \n",
    "    p1 = plt.bar(ind, count_4, width)\n",
    "    p2 = plt.bar(ind, count_3, width, bottom=count_4)\n",
    "    p3 = plt.bar(ind, count_2, width, bottom=count_3)\n",
    "    p4 = plt.bar(ind, count_1, width, bottom=count_2)\n",
    "    p5 = plt.bar(ind, count_0, width, bottom=count_1)\n",
    "    \n",
    "    names = np.array(top_medias)\n",
    "    \n",
    "    plt.ylabel('Number of Stories')\n",
    "    plt.title('Number of stories by year')\n",
    "    plt.xticks(ind, ('2014', '2015', '2016', '2017', '2018'))\n",
    "    plt.legend((p5[0], p4[0], p3[0], p2[0], p1[0]), names)\n",
    "\n",
    "    plt.show()"
   ]
  },
  {
   "cell_type": "code",
   "execution_count": 50,
   "metadata": {},
   "outputs": [
    {
     "name": "stdout",
     "output_type": "stream",
     "text": [
      "\n",
      "domestic-violence-stories (8640).csv\n",
      "Top 5 media:\n",
      "theage.com.au\n",
      "heraldsun.com.au\n",
      "abc.net.au\n",
      "geelongadvertiser.com.au\n",
      "news.theage.com.au\n",
      "\n",
      "family-violence-stories (4014).csv\n",
      "Top 5 media:\n",
      "theage.com.au\n",
      "abc.net.au\n",
      "heraldsun.com.au\n",
      "thecourier.com.au\n",
      "bendigoadvertiser.com.au\n"
     ]
    }
   ],
   "source": [
    "for name in file_names:\n",
    "    generate_bar_chart(name)"
   ]
  },
  {
   "cell_type": "code",
   "execution_count": null,
   "metadata": {},
   "outputs": [],
   "source": []
  }
 ],
 "metadata": {
  "kernelspec": {
   "display_name": "Python 3",
   "language": "python",
   "name": "python3"
  },
  "language_info": {
   "codemirror_mode": {
    "name": "ipython",
    "version": 3
   },
   "file_extension": ".py",
   "mimetype": "text/x-python",
   "name": "python",
   "nbconvert_exporter": "python",
   "pygments_lexer": "ipython3",
   "version": "3.7.2"
  }
 },
 "nbformat": 4,
 "nbformat_minor": 2
}
