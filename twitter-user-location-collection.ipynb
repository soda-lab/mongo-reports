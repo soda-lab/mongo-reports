{
 "cells": [
  {
   "cell_type": "code",
   "execution_count": null,
   "metadata": {},
   "outputs": [],
   "source": [
    "import pandas\n",
    "\n",
    "import warnings\n",
    "warnings.filterwarnings(\"ignore\", category=DeprecationWarning)\n",
    "\n",
    "import configparser \n",
    "config = configparser.ConfigParser()\n",
    "config.read('config.ini')\n",
    "ip = config['DEFAULT']['IP']\n",
    "port = config['DEFAULT']['MongoDB-Port']\n",
    "\n",
    "from pymongo import MongoClient\n",
    "client = MongoClient(ip, int(port))"
   ]
  },
  {
   "cell_type": "code",
   "execution_count": null,
   "metadata": {},
   "outputs": [],
   "source": [
    "#print(client.database_names())\n",
    "db_twitter = client[\"Twitter\"]\n",
    "collections = db_twitter.collection_names()"
   ]
  },
  {
   "cell_type": "code",
   "execution_count": null,
   "metadata": {},
   "outputs": [],
   "source": [
    "for i in collections:\n",
    "    print(i+\": {:,}\".format(db_twitter[i].find({}).count()))"
   ]
  },
  {
   "cell_type": "code",
   "execution_count": null,
   "metadata": {},
   "outputs": [],
   "source": [
    "def get_list_from_csv(data):\n",
    "    ci = data.city.tolist()\n",
    "    city = ci[1:]\n",
    "    st = data.state.tolist()\n",
    "    state = st[1:]\n",
    "    co = data.country.tolist()\n",
    "    country = co[1:]\n",
    "    return city,state,country"
   ]
  },
  {
   "cell_type": "markdown",
   "metadata": {},
   "source": [
    "# Twitter\n",
    "##  1. Compute the number of tweets in Australia based on the user location\n",
    "### (i) aggregate records from \"twitter-australia\" collection"
   ]
  },
  {
   "cell_type": "code",
   "execution_count": null,
   "metadata": {},
   "outputs": [],
   "source": [
    "# Construct pipline for aggregation\n",
    "\n",
    "pipeline = [\n",
    "    { \"$group\": {\n",
    "        \"_id\": \"$user.location\",\n",
    "        \"count\": { \"$sum\": 1 }\n",
    "        }\n",
    "    }\n",
    "]"
   ]
  },
  {
   "cell_type": "code",
   "execution_count": null,
   "metadata": {},
   "outputs": [],
   "source": [
    "#  Aggregating Twitter-Australia data\n",
    "\n",
    "aus_data = list(db_twitter['twitter-australia'].aggregate(pipeline))\n",
    "print(\"Aggregating Twitter-Australia data is done\")"
   ]
  },
  {
   "cell_type": "markdown",
   "metadata": {},
   "source": [
    "### (ii) get name of city, state, country from au.csv"
   ]
  },
  {
   "cell_type": "code",
   "execution_count": null,
   "metadata": {},
   "outputs": [],
   "source": [
    "# get list of all city name of australia\n",
    "\n",
    "colnames = ['city', 'state', 'country']\n",
    "data = pandas.read_csv('supporting-files/au.csv', names=colnames, encoding=\"ISO-8859-1\")"
   ]
  },
  {
   "cell_type": "code",
   "execution_count": null,
   "metadata": {},
   "outputs": [],
   "source": [
    "city, state, country = get_list_from_csv(data)\n",
    "print(\"reading csv file of australia_cities is done\")"
   ]
  },
  {
   "cell_type": "markdown",
   "metadata": {},
   "source": [
    "### (iii) calculate the number of tweets based on location (Australia)"
   ]
  },
  {
   "cell_type": "code",
   "execution_count": null,
   "metadata": {},
   "outputs": [],
   "source": [
    "aus_data_format = []\n",
    "\n",
    "for data in aus_data:\n",
    "    exist = 0\n",
    "    \n",
    "    for x in city:  \n",
    "        loc = data[\"_id\"].lower().replace(\"australia\",\"\")\n",
    "        if x.lower() in loc:\n",
    "            index = city.index(x)\n",
    "            if len(aus_data_format)>0:\n",
    "                for d in aus_data_format:\n",
    "                    if x in d[\"id\"]:\n",
    "                        d[\"count\"] += data[\"count\"] \n",
    "                        exist = 1\n",
    "                        break \n",
    "                if exist == 0:\n",
    "                    aus_data_format.append({\"id\":x + ',' + state[index] + \",\" + country[index],\"count\":data[\"count\"]})\n",
    "                    exist = 1\n",
    "            else: \n",
    "                aus_data_format.append({\"id\":x + ',' + state[index] + \",\" + country[index],\"count\":data[\"count\"]})\n",
    "                exist = 1\n",
    "            break\n",
    "    if exist == 0:\n",
    "        for z in state:\n",
    "            if z.lower() in data[\"_id\"].lower():\n",
    "                index = state.index(z)\n",
    "                if len(aus_data_format)>0:\n",
    "                    for d in aus_data_format:\n",
    "                        s = d[\"id\"].split(\",\")[0]\n",
    "                        if (s == \"null\") and (z in d[\"id\"]):\n",
    "                            d[\"count\"] += data[\"count\"]  \n",
    "                            exist = 1\n",
    "                            break \n",
    "                    if exist == 0:\n",
    "                        aus_data_format.append({\"id\":\"null\" + \",\" + z + \",\" + country[index],\"count\":data[\"count\"]})\n",
    "                        exist = 1\n",
    "                else: \n",
    "                    aus_data_format.append({\"id\": \"null\" + \",\"  + z + \",\" + country[index],\"count\":data[\"count\"]})  \n",
    "                    exist = 1\n",
    "                break\n",
    "    if exist == 0:\n",
    "        for y in country:\n",
    "            if y.lower() in data[\"_id\"].lower():\n",
    "                if len(aus_data_format)>0:\n",
    "                    for d in aus_data_format:\n",
    "                        s = d[\"id\"].split(\",\")[1]\n",
    "                        if (s == \"null\") and (y in d[\"id\"]):\n",
    "                            d[\"count\"] += data[\"count\"]       \n",
    "                            exist = 1\n",
    "                            break \n",
    "                    if exist == 0:\n",
    "                        aus_data_format.append({\"id\":\"null\" + \",\" + \"null\" + ',' + y,\"count\":data[\"count\"]})\n",
    "                        exist = 1\n",
    "                else: \n",
    "                    aus_data_format.append({\"id\": \"null\" + \",\"  + \"null\" + ',' + y,\"count\":data[\"count\"]}) \n",
    "                    exist = 1 \n",
    "                break\n",
    "                \n",
    "print(\"list \\'aus_data_format\\' is finished\")"
   ]
  },
  {
   "cell_type": "markdown",
   "metadata": {},
   "source": [
    "### (iv) print out the output csv file"
   ]
  },
  {
   "cell_type": "code",
   "execution_count": null,
   "metadata": {},
   "outputs": [],
   "source": [
    "# Print total number of tweets in Australia\n",
    "\n",
    "file_name = 'output/twitter-australia-user-collection.csv'\n",
    "with open(file_name, 'w') as f:\n",
    "    # header\n",
    "    f.write('city,state,country,Tweets from Australia\\n')\n",
    "    \n",
    "    for data in aus_data_format:\n",
    "        city = data['id'].split(\",\")[0]\n",
    "        state = data['id'].split(\",\")[1]\n",
    "        country = data['id'].split(\",\")[2]\n",
    "        if state == 'Victoria':\n",
    "            state = 'VIC'\n",
    "        \n",
    "        line = city + ',' + state + ',' +  country + ',' + str(data['count']) + '\\n'\n",
    "        f.write(line)\n",
    "    \n",
    "print (file_name, 'is ready.')"
   ]
  },
  {
   "cell_type": "markdown",
   "metadata": {},
   "source": [
    "##  2. Compute the number of tweets in Other based on the user location\n",
    "### (i) aggregate records from \"twitter-other\" collection"
   ]
  },
  {
   "cell_type": "code",
   "execution_count": null,
   "metadata": {},
   "outputs": [],
   "source": [
    "#  Twitter-Other data\n",
    "\n",
    "other_data = list(db_twitter['twitter-other'].aggregate(pipeline,allowDiskUse=True))\n",
    "print(\"Aggregating Twitter-Other data is done\")"
   ]
  },
  {
   "cell_type": "markdown",
   "metadata": {},
   "source": [
    "### (ii) get name of city, state, country from world_cities.csv"
   ]
  },
  {
   "cell_type": "code",
   "execution_count": null,
   "metadata": {},
   "outputs": [],
   "source": [
    "# get list of all city name around world\n",
    "\n",
    "colnames = ['city', 'state', 'country']\n",
    "data = pandas.read_csv('supporting-files/world-cities.csv', names=colnames, encoding=\"ISO-8859-1\")"
   ]
  },
  {
   "cell_type": "code",
   "execution_count": null,
   "metadata": {},
   "outputs": [],
   "source": [
    "city, state, country = get_list_from_csv(data)\n",
    "print(\"reading csv file of world_cities is done\")"
   ]
  },
  {
   "cell_type": "markdown",
   "metadata": {},
   "source": [
    "### (iii) calculate the number of tweets based on location (World)"
   ]
  },
  {
   "cell_type": "code",
   "execution_count": null,
   "metadata": {
    "scrolled": false
   },
   "outputs": [],
   "source": [
    "other_data_format = []\n",
    "\n",
    "for data in other_data:\n",
    "    exist = 0\n",
    "    if data[\"_id\"] is not None: \n",
    "        for x in city: \n",
    "            if isinstance(x,str):\n",
    "                if x.lower() in data[\"_id\"].lower():\n",
    "                    index = city.index(x)\n",
    "                    if len(other_data_format)>0:\n",
    "                        for d in other_data_format:\n",
    "                            if x in d[\"id\"]:\n",
    "                                d[\"count\"] += data[\"count\"] \n",
    "                                exist = 1\n",
    "                                break \n",
    "                        if exist == 0:\n",
    "                            other_data_format.append({\"id\":x + ',' + str(state[index]) + \",\" + str(country[index]),\"count\":data[\"count\"]})\n",
    "                            exist = 1\n",
    "                    else: \n",
    "                        other_data_format.append({\"id\":x + ',' + str(state[index]) + \",\" + str(country[index]),\"count\":data[\"count\"]})\n",
    "                        exist = 1\n",
    "                    print(\"city: \" + x)\n",
    "                    break\n",
    "        if exist == 0:\n",
    "            for z in state:\n",
    "                if isinstance(z, str):\n",
    "                    if z.lower() in data[\"_id\"].lower():\n",
    "                        index = state.index(z)\n",
    "                        if len(other_data_format)>0:\n",
    "                            for d in other_data_format:\n",
    "                                s = d[\"id\"].split(\",\")[0]\n",
    "                                if (s == \"null\") and (z in d[\"id\"]):\n",
    "                                    d[\"count\"] += data[\"count\"]  \n",
    "                                    exist = 1\n",
    "                                    break \n",
    "                            if exist == 0:\n",
    "                                other_data_format.append({\"id\":\"null\" + \",\" + z + \",\" + str(country[index]),\"count\":data[\"count\"]})\n",
    "                                exist = 1\n",
    "                        else: \n",
    "                            other_data_format.append({\"id\": \"null\" + \",\"  + z + \",\" + str(country[index]),\"count\":data[\"count\"]})  \n",
    "                            exist = 1\n",
    "                        print(\"state: \" + z)\n",
    "                        break\n",
    "        if exist == 0:\n",
    "            for y in country:\n",
    "                if isinstance(y,str):\n",
    "                    if y.lower() in data[\"_id\"].lower():\n",
    "                        if len(other_data_format)>0:\n",
    "                            for d in other_data_format:\n",
    "                                s = d[\"id\"].split(\",\")[1]\n",
    "                                if (s == \"null\") and (y in d[\"id\"]):\n",
    "                                    d[\"count\"] += data[\"count\"]       \n",
    "                                    exist = 1\n",
    "                                    break \n",
    "                            if exist == 0:\n",
    "                                other_data_format.append({\"id\":\"null\" + \",\" + \"null\" + ',' + y,\"count\":data[\"count\"]})\n",
    "                                exist = 1\n",
    "                        else: \n",
    "                            other_data_format.append({\"id\": \"null\" + \",\"  + \"null\" + ',' + y,\"count\":data[\"count\"]}) \n",
    "                            exist = 1\n",
    "                        print(\"country: \" + y)\n",
    "                        break\n",
    "                \n",
    "print(\"list \\'other_data_format\\' is finished\")"
   ]
  },
  {
   "cell_type": "markdown",
   "metadata": {},
   "source": [
    "### (iv) print out the output csv file "
   ]
  },
  {
   "cell_type": "code",
   "execution_count": null,
   "metadata": {},
   "outputs": [],
   "source": [
    "file_name = 'output/twitter-others-user-collection.csv'\n",
    "with open(file_name, 'w') as f:\n",
    "    # header\n",
    "    f.write('city,state,country,Tweets from Other\\n')\n",
    "    \n",
    "    for data in other_data_format:\n",
    "        city = data['id'].split(\",\")[0]\n",
    "        state = data['id'].split(\",\")[1]\n",
    "        country = data['id'].split(\",\")[2]\n",
    "        \n",
    "        line = city + ',' + state + ',' +  country + ',' + str(data['count']) + '\\n'\n",
    "        f.write(line)\n",
    "    \n",
    "print (file_name, 'is ready.')"
   ]
  },
  {
   "cell_type": "code",
   "execution_count": null,
   "metadata": {},
   "outputs": [],
   "source": []
  }
 ],
 "metadata": {
  "kernelspec": {
   "display_name": "Python 3",
   "language": "python",
   "name": "python3"
  },
  "language_info": {
   "codemirror_mode": {
    "name": "ipython",
    "version": 3
   },
   "file_extension": ".py",
   "mimetype": "text/x-python",
   "name": "python",
   "nbconvert_exporter": "python",
   "pygments_lexer": "ipython3",
   "version": "3.6.4"
  }
 },
 "nbformat": 4,
 "nbformat_minor": 2
}
