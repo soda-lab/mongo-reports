{
 "cells": [
  {
   "cell_type": "code",
   "execution_count": null,
   "metadata": {},
   "outputs": [],
   "source": [
    "import pandas\n",
    "\n",
    "import warnings\n",
    "warnings.filterwarnings(\"ignore\", category=DeprecationWarning)\n",
    "\n",
    "import configparser \n",
    "config = configparser.ConfigParser()\n",
    "config.read('config.ini')\n",
    "ip = config['DEFAULT']['IP']\n",
    "port = config['DEFAULT']['MongoDB-Port']\n",
    "\n",
    "from pymongo import MongoClient\n",
    "client = MongoClient(ip, int(port))"
   ]
  },
  {
   "cell_type": "code",
   "execution_count": null,
   "metadata": {},
   "outputs": [],
   "source": [
    "db_twitter = client[\"Twitter\"]"
   ]
  },
  {
   "cell_type": "code",
   "execution_count": null,
   "metadata": {},
   "outputs": [],
   "source": [
    "print(\"twitter-australia: {:,}\".format(db_twitter[\"twitter-australia\"].find({}).count()))\n",
    "print(\"twitter-other: {:,}\".format(db_twitter[\"twitter-other\"].find({}).count()))"
   ]
  },
  {
   "cell_type": "markdown",
   "metadata": {},
   "source": [
    "# Twitter\n",
    "##  Compute the number of tweets based on the user location"
   ]
  },
  {
   "cell_type": "code",
   "execution_count": null,
   "metadata": {},
   "outputs": [],
   "source": [
    "# Construct pipline for aggregation\n",
    "\n",
    "pipeline = [\n",
    "    { \"$group\": {\n",
    "        \"_id\": \"$user.location\",\n",
    "        \"count\": { \"$sum\": 1 }\n",
    "        }\n",
    "    }\n",
    "]"
   ]
  },
  {
   "cell_type": "code",
   "execution_count": null,
   "metadata": {},
   "outputs": [],
   "source": [
    "#  Twitter-Australia data\n",
    "\n",
    "aus_data = list(db_twitter['twitter-australia'].aggregate(pipeline))\n",
    "print(aus_data)"
   ]
  },
  {
   "cell_type": "code",
   "execution_count": null,
   "metadata": {},
   "outputs": [],
   "source": [
    "# Print total number of tweets in Australia\n",
    "\n",
    "total = 0\n",
    "print('Tweet counts - Australia:\\n')\n",
    "for data in aus_data:\n",
    "    print(data['_id']+':', data['count'])\n",
    "    total += data['count']\n",
    "        \n",
    "print('\\nTotal:', total)"
   ]
  },
  {
   "cell_type": "code",
   "execution_count": null,
   "metadata": {},
   "outputs": [],
   "source": [
    "# get list of all city name of australia\n",
    "\n",
    "colnames = ['city', 'state', 'country']\n",
    "data = pandas.read_csv('au.csv', names=colnames)"
   ]
  },
  {
   "cell_type": "code",
   "execution_count": null,
   "metadata": {},
   "outputs": [],
   "source": [
    "ci = data.city.tolist()\n",
    "city = ci[1:]\n",
    "st = data.state.tolist()\n",
    "state = st[1:]\n",
    "co = data.country.tolist()\n",
    "country = co[1:]"
   ]
  },
  {
   "cell_type": "code",
   "execution_count": null,
   "metadata": {},
   "outputs": [],
   "source": [
    "aus_data_format = []\n",
    "\n",
    "for data in aus_data:\n",
    "    exist = 0\n",
    "    \n",
    "    for x in city:  \n",
    "        loc = data[\"_id\"].lower().replace(\"australia\",\"\")\n",
    "        if x.lower() in loc:\n",
    "            index = city.index(x)\n",
    "            if len(aus_data_format)>0:\n",
    "                for d in aus_data_format:\n",
    "                    if x in d[\"id\"]:\n",
    "                        d[\"count\"] += data[\"count\"] \n",
    "                        exist = 1\n",
    "                        break \n",
    "                if exist == 0:\n",
    "                    aus_data_format.append({\"id\":x + ',' + state[index] + \",\" + country[index],\"count\":data[\"count\"]})\n",
    "                    exist = 1\n",
    "            else: \n",
    "                aus_data_format.append({\"id\":x + ',' + state[index] + \",\" + country[index],\"count\":data[\"count\"]})\n",
    "                exist = 1\n",
    "            break\n",
    "    if exist == 0:\n",
    "        for z in state:\n",
    "            if z.lower() in data[\"_id\"].lower():\n",
    "                index = state.index(z)\n",
    "                if len(aus_data_format)>0:\n",
    "                    for d in aus_data_format:\n",
    "                        s = d[\"id\"].split(\",\")[0]\n",
    "                        if (s == \"null\") and (z in d[\"id\"]):\n",
    "                            d[\"count\"] += data[\"count\"]  \n",
    "                            exist = 1\n",
    "                            break \n",
    "                    if exist == 0:\n",
    "                        aus_data_format.append({\"id\":\"null\" + \",\" + z + \",\" + country[index],\"count\":data[\"count\"]})\n",
    "                        exist = 1\n",
    "                else: \n",
    "                    aus_data_format.append({\"id\": \"null\" + \",\"  + z + \",\" + country[index],\"count\":data[\"count\"]})  \n",
    "                    exist = 1\n",
    "                break\n",
    "    if exist == 0:\n",
    "        for y in country:\n",
    "            if y.lower() in data[\"_id\"].lower():\n",
    "                if len(aus_data_format)>0:\n",
    "                    for d in aus_data_format:\n",
    "                        s = d[\"id\"].split(\",\")[1]\n",
    "                        if (s == \"null\") and (y in d[\"id\"]):\n",
    "                            d[\"count\"] += data[\"count\"]       \n",
    "                            exist = 1\n",
    "                            break \n",
    "                    if exist == 0:\n",
    "                        aus_data_format.append({\"id\":\"null\" + \",\" + \"null\" + ',' + y,\"count\":data[\"count\"]})\n",
    "                        exist = 1\n",
    "                else: \n",
    "                    aus_data_format.append({\"id\": \"null\" + \",\"  + \"null\" + ',' + y,\"count\":data[\"count\"]}) \n",
    "                    exist = 1\n",
    "                #print(aus_data_format)\n",
    "                break"
   ]
  },
  {
   "cell_type": "code",
   "execution_count": null,
   "metadata": {},
   "outputs": [],
   "source": [
    "# Print total number of tweets in Australia\n",
    "file_name = 'twitter-australia-user-collection.csv'\n",
    "\n",
    "with open(file_name, 'w') as f:\n",
    "    # header\n",
    "    f.write('city,state,country,Tweets from Australia\\n')\n",
    "    \n",
    "    for data in aus_data_format:\n",
    "        city = data['id'].split(\",\")[0]\n",
    "        state = data['id'].split(\",\")[1]\n",
    "        country = data['id'].split(\",\")[2]\n",
    "        if state == 'Victoria':\n",
    "            state = 'VIC'\n",
    "        \n",
    "        line = city + ',' + state + ',' +  country + ',' + str(data['count']) + '\\n'\n",
    "        f.write(line)\n",
    "    \n",
    "print (file_name, 'is ready.')"
   ]
  },
  {
   "cell_type": "code",
   "execution_count": null,
   "metadata": {},
   "outputs": [],
   "source": []
  }
 ],
 "metadata": {
  "kernelspec": {
   "display_name": "Python 3",
   "language": "python",
   "name": "python3"
  },
  "language_info": {
   "codemirror_mode": {
    "name": "ipython",
    "version": 3
   },
   "file_extension": ".py",
   "mimetype": "text/x-python",
   "name": "python",
   "nbconvert_exporter": "python",
   "pygments_lexer": "ipython3",
   "version": "3.6.4"
  }
 },
 "nbformat": 4,
 "nbformat_minor": 2
}
