{
 "cells": [
  {
   "cell_type": "code",
   "execution_count": 6,
   "metadata": {},
   "outputs": [],
   "source": [
    "import pandas as pd\n",
    "import numpy as np\n",
    "import glob\n",
    "import os\n",
    "import re"
   ]
  },
  {
   "cell_type": "code",
   "execution_count": 7,
   "metadata": {},
   "outputs": [],
   "source": [
    "# create foler if not exist\n",
    "def create_folder():\n",
    "    folder = \"output/\"\n",
    "    if not os.path.exists(folder):\n",
    "        os.makedirs(folder)\n",
    "    return folder"
   ]
  },
  {
   "cell_type": "code",
   "execution_count": 8,
   "metadata": {},
   "outputs": [
    {
     "name": "stdout",
     "output_type": "stream",
     "text": [
      "-----------------\n",
      "processing on the file: output/2018_W52_Twitter_Australia.csv\n",
      "output/2018_W52_Twitter_Australia_grouped.csv is done.\n",
      "-----------------\n",
      "-----------------\n",
      "processing on the file: output/2018_W51_Twitter_Australia.csv\n",
      "output/2018_W51_Twitter_Australia_grouped.csv is done.\n",
      "-----------------\n",
      "-----------------\n",
      "processing on the file: output/2018_W51_Twitter_Other.csv\n",
      "output/2018_W51_Twitter_Other_grouped.csv is done.\n",
      "-----------------\n"
     ]
    }
   ],
   "source": [
    "# get folder for file_reader\n",
    "data_path = \"output\"\n",
    "\n",
    "# read all csv files from the dictionary\n",
    "for input_file in glob.glob(os.path.join(data_path,'*.csv')):\n",
    "    \n",
    "    print(\"-----------------\")\n",
    "    print(\"processing on the file: \" + input_file)\n",
    "    \n",
    "    collection_name = re.search('/(.+?).csv', input_file).group(1)\n",
    "    \n",
    "    # read csv file \n",
    "    df = pd.read_csv(input_file,',')\n",
    "    \n",
    "    # convert the data typr to string to avoid lossing data after group\n",
    "    df['hashtag'] = df.hashtag.astype(str)\n",
    "    df['user_location'] = df.user_location.astype(str)\n",
    "    \n",
    "    group_df = df.groupby(['hashtag','user_location']).size().reset_index(name='count')\n",
    "    \n",
    "    file_name = 'output/' + collection_name + '_grouped.csv'\n",
    "    group_df.to_csv(file_name, sep=',',index = False)\n",
    "    \n",
    "    print(file_name + \" is done.\")\n",
    "    print(\"-----------------\")"
   ]
  },
  {
   "cell_type": "code",
   "execution_count": null,
   "metadata": {},
   "outputs": [],
   "source": []
  }
 ],
 "metadata": {
  "kernelspec": {
   "display_name": "Python 3",
   "language": "python",
   "name": "python3"
  },
  "language_info": {
   "codemirror_mode": {
    "name": "ipython",
    "version": 3
   },
   "file_extension": ".py",
   "mimetype": "text/x-python",
   "name": "python",
   "nbconvert_exporter": "python",
   "pygments_lexer": "ipython3",
   "version": "3.6.4"
  }
 },
 "nbformat": 4,
 "nbformat_minor": 2
}
