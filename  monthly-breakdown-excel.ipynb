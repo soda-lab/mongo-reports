{
 "cells": [
  {
   "cell_type": "code",
   "execution_count": null,
   "metadata": {},
   "outputs": [],
   "source": [
    "import warnings\n",
    "warnings.filterwarnings(\"ignore\", category=DeprecationWarning)\n",
    "\n",
    "import pandas as pd\n",
    "from openpyxl import load_workbook\n",
    "\n",
    "import configparser \n",
    "config = configparser.ConfigParser()\n",
    "config.read('config.ini')\n",
    "ip = config['DEFAULT']['IP']\n",
    "port = config['DEFAULT']['MongoDB-Port']\n",
    "\n",
    "from pymongo import MongoClient\n",
    "client = MongoClient(ip, int(port))"
   ]
  },
  {
   "cell_type": "code",
   "execution_count": null,
   "metadata": {},
   "outputs": [],
   "source": [
    "db_twitter = client[\"Twitter\"]"
   ]
  },
  {
   "cell_type": "code",
   "execution_count": null,
   "metadata": {},
   "outputs": [],
   "source": [
    "search_terms = ['family violence', 'domestic violence', '#vaw', '#evaw', '#pvw', '#toxicmasculinity', '#slutshaming', '#notallmen', '#malechampionsofchange', '#namalt', '#feminazi', '#tinderslut', 'Luke Batty', 'Rosie Batty', 'Eurydice Dixon', '@OurWatchAus', '#stopitatthestart', '#freefromviolence', '#howiwillchange', '#respectwomen', '#callitout', '#orangecard']"
   ]
  },
  {
   "cell_type": "code",
   "execution_count": null,
   "metadata": {},
   "outputs": [],
   "source": [
    "for i in search_terms:\n",
    "    cursor = db_twitter[\"twitter-temp\"].find({\"text\":{\"$regex\":\".*\"+i+\".*\", '$options' : 'i'}})\n",
    "    df =  pd.DataFrame(list(cursor))\n",
    "    if '_id' in df:\n",
    "        del df['_id']\n",
    "        \n",
    "    book = load_workbook('output_australia.xlsx')\n",
    "    writer = pd.ExcelWriter('output_australia.xlsx', engine='openpyxl')\n",
    "    writer.book = book\n",
    "    writer.sheets = dict((ws.title, ws) for ws in book.worksheets)\n",
    "    \n",
    "    df.to_excel(writer, i) \n",
    "    writer.save()"
   ]
  },
  {
   "cell_type": "code",
   "execution_count": null,
   "metadata": {},
   "outputs": [],
   "source": []
  }
 ],
 "metadata": {
  "kernelspec": {
   "display_name": "Python 3",
   "language": "python",
   "name": "python3"
  },
  "language_info": {
   "codemirror_mode": {
    "name": "ipython",
    "version": 3
   },
   "file_extension": ".py",
   "mimetype": "text/x-python",
   "name": "python",
   "nbconvert_exporter": "python",
   "pygments_lexer": "ipython3",
   "version": "3.6.4"
  }
 },
 "nbformat": 4,
 "nbformat_minor": 2
}
