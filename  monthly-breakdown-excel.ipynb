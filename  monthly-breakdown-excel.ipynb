{
 "cells": [
  {
   "cell_type": "code",
   "execution_count": 1,
   "metadata": {},
   "outputs": [],
   "source": [
    "import warnings\n",
    "warnings.filterwarnings(\"ignore\", category=DeprecationWarning)\n",
    "\n",
    "import pandas as pd\n",
    "from openpyxl import load_workbook\n",
    "\n",
    "import configparser \n",
    "config = configparser.ConfigParser()\n",
    "config.read('config.ini')\n",
    "ip = config['DEFAULT']['IP']\n",
    "port = config['DEFAULT']['MongoDB-Port']\n",
    "\n",
    "from pymongo import MongoClient\n",
    "client = MongoClient(ip, int(port))\n",
    "\n",
    "import twitter\n",
    "\n",
    "consumer_key = config['TWITTER']['CK']\n",
    "consumer_secret = config['TWITTER']['CS']\n",
    "access_token_key = config['TWITTER']['ATK']\n",
    "access_token_secret = config['TWITTER']['ATS']\n",
    "\n",
    "api = twitter.Api(consumer_key=consumer_key,\n",
    "                  consumer_secret=consumer_secret,\n",
    "                  access_token_key=access_token_key,\n",
    "                  access_token_secret=access_token_secret,\n",
    "                  tweet_mode= 'extended')\n"
   ]
  },
  {
   "cell_type": "code",
   "execution_count": 2,
   "metadata": {},
   "outputs": [],
   "source": [
    "db_twitter = client[\"Twitter\"]"
   ]
  },
  {
   "cell_type": "code",
   "execution_count": 3,
   "metadata": {},
   "outputs": [],
   "source": [
    "search_terms = ['notallmen', 'feminazi', 'vaw', 'family violence', 'domestic violence', 'toxic masculinity', 'Rosie Batty', 'OurWatchAus', 'freefromviolence', 'mrbenjaminlaw', 'howiwillchange']"
   ]
  },
  {
   "cell_type": "code",
   "execution_count": 4,
   "metadata": {},
   "outputs": [
    {
     "name": "stdout",
     "output_type": "stream",
     "text": [
      "notallmen : 106\n",
      "feminazi : 146\n",
      "vaw : 839\n",
      "family violence : 3501\n",
      "domestic violence : 3469\n",
      "toxic masculinity : 475\n",
      "Rosie Batty : 123\n",
      "OurWatchAus : 419\n",
      "freefromviolence : 91\n",
      "mrbenjaminlaw : 4071\n",
      "howiwillchange : 96\n"
     ]
    }
   ],
   "source": [
    "tweets_by_term = {}\n",
    "for term in search_terms:\n",
    "    tweets_by_term[term] = list(db_twitter[\"twitter-temp\"].find({\"$text\": {\"$search\": \"\\\"\" + term + \"\\\"\", \"$caseSensitive\": False}}))\n",
    "    print(term, ':', len(tweets_by_term[term]))"
   ]
  },
  {
   "cell_type": "code",
   "execution_count": 12,
   "metadata": {},
   "outputs": [
    {
     "name": "stdout",
     "output_type": "stream",
     "text": [
      "Text extended:\n",
      "notallmen : 0\n",
      "feminazi : 0\n",
      "vaw : 2\n",
      "family violence : 2\n",
      "domestic violence : 3\n",
      "toxic masculinity : 0\n",
      "Rosie Batty : 0\n",
      "OurWatchAus : 3\n",
      "freefromviolence : 0\n",
      "mrbenjaminlaw : 0\n",
      "howiwillchange : 0\n"
     ]
    }
   ],
   "source": [
    "# get full text if possible\n",
    "print('Text extended:')\n",
    "for term in search_terms:\n",
    "    count = 0\n",
    "    for tweet in tweets_by_term[term][:10]:\n",
    "        if tweet['doc']['truncated']:\n",
    "            try: \n",
    "                tweet['doc']['text'] = api.GetStatus(tweet['id']).full_text\n",
    "                count += 1\n",
    "            except:\n",
    "                pass\n",
    "    print(term, ':', count)"
   ]
  },
  {
   "cell_type": "code",
   "execution_count": 13,
   "metadata": {},
   "outputs": [
    {
     "name": "stdout",
     "output_type": "stream",
     "text": [
      "Link added:\n",
      "notallmen : 106\n",
      "feminazi : 146\n",
      "vaw : 839\n",
      "family violence : 3501\n",
      "domestic violence : 3469\n",
      "toxic masculinity : 475\n",
      "Rosie Batty : 123\n",
      "OurWatchAus : 419\n",
      "freefromviolence : 91\n",
      "mrbenjaminlaw : 4071\n",
      "howiwillchange : 96\n"
     ]
    }
   ],
   "source": [
    "# add link field\n",
    "print('Link added:')\n",
    "for term in search_terms:\n",
    "    count = 0\n",
    "    for tweet in tweets_by_term[term]:\n",
    "        link = 'twitter.com/' + tweet['doc']['user']['screen_name'] + '/status/' + tweet['id']\n",
    "        tweet['doc']['link_to_tweet'] = link\n",
    "        count += 1\n",
    "    print(term, ':', count)"
   ]
  },
  {
   "cell_type": "code",
   "execution_count": 43,
   "metadata": {},
   "outputs": [],
   "source": [
    "# aggregate by month\n",
    "tweets_by_month_term = {}\n",
    "for m in range(6, 13):\n",
    "    tweets_by_month_term[m] = {}\n",
    "    for term in search_terms:\n",
    "        tweets_by_month_term[m][term] = []"
   ]
  },
  {
   "cell_type": "code",
   "execution_count": 44,
   "metadata": {},
   "outputs": [],
   "source": [
    "for term in search_terms:\n",
    "    for tweet in tweets_by_term[term]:\n",
    "        m = tweet['key'][2]\n",
    "        doc = tweet['doc']\n",
    "        doc['entities'] = 0\n",
    "        doc['metadata'] = 0\n",
    "        doc['user'] = 0\n",
    "        tweets_by_month_term[m][term].append(doc)"
   ]
  },
  {
   "cell_type": "code",
   "execution_count": 45,
   "metadata": {},
   "outputs": [
    {
     "name": "stdout",
     "output_type": "stream",
     "text": [
      "Save to Excel files complete\n"
     ]
    }
   ],
   "source": [
    "# output to file\n",
    "for m in range(6, 13):\n",
    "    for term in search_terms:\n",
    "        df =  pd.DataFrame(tweets_by_month_term[m][term])\n",
    "        \n",
    "        path = 'output/2017-' + str(m) + '.xlsx'\n",
    "        book = load_workbook(path)\n",
    "        writer = pd.ExcelWriter(path, engine='openpyxl')\n",
    "        writer.book = book\n",
    "        writer.sheets = dict((ws.title, ws) for ws in book.worksheets)\n",
    "\n",
    "        df.to_excel(writer, term) \n",
    "        writer.save()\n",
    "        \n",
    "print('Save to Excel files complete')"
   ]
  },
  {
   "cell_type": "code",
   "execution_count": null,
   "metadata": {},
   "outputs": [],
   "source": []
  }
 ],
 "metadata": {
  "kernelspec": {
   "display_name": "Python 3",
   "language": "python",
   "name": "python3"
  },
  "language_info": {
   "codemirror_mode": {
    "name": "ipython",
    "version": 3
   },
   "file_extension": ".py",
   "mimetype": "text/x-python",
   "name": "python",
   "nbconvert_exporter": "python",
   "pygments_lexer": "ipython3",
   "version": "3.7.2"
  }
 },
 "nbformat": 4,
 "nbformat_minor": 2
}
