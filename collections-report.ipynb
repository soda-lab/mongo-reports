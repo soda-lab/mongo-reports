{
 "cells": [
  {
   "cell_type": "code",
   "execution_count": 1,
   "metadata": {},
   "outputs": [],
   "source": [
    "import warnings\n",
    "warnings.filterwarnings(\"ignore\", category=DeprecationWarning)\n",
    "\n",
    "import configparser \n",
    "config = configparser.ConfigParser()\n",
    "config.read('config.ini')\n",
    "ip = config['DEFAULT']['IP']\n",
    "port = config['DEFAULT']['MongoDB-Port']\n",
    "\n",
    "from pymongo import MongoClient\n",
    "client = MongoClient(ip, int(port))"
   ]
  },
  {
   "cell_type": "code",
   "execution_count": 2,
   "metadata": {},
   "outputs": [],
   "source": [
    "#print(client.database_names())\n",
    "db_twitter = client[\"Twitter\"]\n",
    "db_reddit  = client[\"reddit\"]\n",
    "\n",
    "collections_twitter = db_twitter.collection_names()\n",
    "collections_reddit = db_reddit.collection_names()"
   ]
  },
  {
   "cell_type": "code",
   "execution_count": 3,
   "metadata": {},
   "outputs": [
    {
     "name": "stdout",
     "output_type": "stream",
     "text": [
      "family-violence-2019-01-11: 1,927,047\n",
      "family-violence-unique-2019-01-11: 259\n",
      "reddit: 1,563,998\n",
      "reddit-2019-02: 6,962,647\n",
      "reddit_temp: 217\n",
      "twitter-australia: 436,247\n",
      "twitter-other: 235,606,652\n",
      "twitter-richard-2014: 211,755\n",
      "twitter-richard-2015: 198,258\n",
      "twitter-richard-2016: 10,801\n",
      "twitter-richard-2017: 21,797,263\n",
      "twitter-richard-2018: 10,679,787\n"
     ]
    }
   ],
   "source": [
    "dic_collection = {}\n",
    "for i in collections_twitter:\n",
    "    dic_collection[i] = \"{:,}\".format(db_twitter[i].find({}).count())\n",
    "for i in collections_reddit:\n",
    "    dic_collection[i] = \"{:,}\".format(db_reddit[i].find({}).count())\n",
    "\n",
    "for key in sorted(dic_collection):\n",
    "    print(\"%s: %s\" % (key, dic_collection[key]))"
   ]
  },
  {
   "cell_type": "markdown",
   "metadata": {},
   "source": [
    "# 1 Twitter\n",
    "## Compute number of posts based on creation date"
   ]
  },
  {
   "cell_type": "code",
   "execution_count": null,
   "metadata": {},
   "outputs": [],
   "source": [
    "# Construct pipline for aggregation\n",
    "# Group by date, converted from timestamp\n",
    "\n",
    "pipeline = [\n",
    "    { \"$group\": {\n",
    "        \"_id\": {\n",
    "            \"$dateToString\": {\n",
    "                \"format\": \"%Y-%m-%d\",\n",
    "                \"date\": {\n",
    "                    \"$toDate\": { \"$toLong\": \"$timestamp_ms\" }\n",
    "                    }\n",
    "                }\n",
    "            },\n",
    "        \"count\": { \"$sum\": 1 }\n",
    "        }\n",
    "    },\n",
    "    { \"$sort\": {\"_id\": 1}} #sort by date ascending\n",
    "]"
   ]
  },
  {
   "cell_type": "code",
   "execution_count": null,
   "metadata": {},
   "outputs": [],
   "source": [
    "# Australia data\n",
    "\n",
    "aus_data = list(db_twitter['twitter-australia'].aggregate(pipeline))"
   ]
  },
  {
   "cell_type": "code",
   "execution_count": null,
   "metadata": {},
   "outputs": [],
   "source": [
    "# Print totals\n",
    "\n",
    "total = 0\n",
    "print('Tweet counts - Australia:\\n')\n",
    "for data in aus_data:\n",
    "    if data['_id']:\n",
    "        print(data['_id']+':', data['count'])\n",
    "        total += data['count']\n",
    "        \n",
    "print('\\nTotal:', total)"
   ]
  },
  {
   "cell_type": "code",
   "execution_count": null,
   "metadata": {},
   "outputs": [],
   "source": [
    "other_data = list(db_twitter['twitter-other'].aggregate(pipeline))"
   ]
  },
  {
   "cell_type": "code",
   "execution_count": null,
   "metadata": {},
   "outputs": [],
   "source": [
    "print('Tweet counts - other countries:\\n')\n",
    "total = 0\n",
    "for data in other_data:\n",
    "    if data['_id']:\n",
    "        print(data['_id']+':', data['count'])\n",
    "        total += data['count']\n",
    "\n",
    "print('\\nTotal:', total)"
   ]
  },
  {
   "cell_type": "code",
   "execution_count": null,
   "metadata": {},
   "outputs": [],
   "source": [
    "# Write results to file as csv\n",
    "\n",
    "file_name = 'output/twitter-daily-collection.csv'\n",
    "with open(file_name, 'w') as f:\n",
    "    # header\n",
    "    f.write('Date,Tweets from Australia,Tweets from Other Countries\\n')\n",
    "    \n",
    "    # iterate each day (other data much larger than aus data)\n",
    "    for data in other_data:\n",
    "        if data['_id']:\n",
    "            date = data['_id']\n",
    "            \n",
    "            # construct one csv line\n",
    "            line = date + ','\n",
    "            \n",
    "            # find if this date also has data in aus_data\n",
    "            aus_count = 0\n",
    "            for _data in aus_data:\n",
    "                if _data['_id'] == date:\n",
    "                    aus_count = _data['count']\n",
    "                    break\n",
    "            line += str(aus_count) + ',' + str(data['count']) + '\\n'\n",
    "            f.write(line)\n",
    "    \n",
    "print (file_name, 'is ready.')"
   ]
  },
  {
   "cell_type": "code",
   "execution_count": null,
   "metadata": {},
   "outputs": [],
   "source": []
  }
 ],
 "metadata": {
  "kernelspec": {
   "display_name": "Python 3",
   "language": "python",
   "name": "python3"
  },
  "language_info": {
   "codemirror_mode": {
    "name": "ipython",
    "version": 3
   },
   "file_extension": ".py",
   "mimetype": "text/x-python",
   "name": "python",
   "nbconvert_exporter": "python",
   "pygments_lexer": "ipython3",
   "version": "3.6.4"
  }
 },
 "nbformat": 4,
 "nbformat_minor": 2
}
