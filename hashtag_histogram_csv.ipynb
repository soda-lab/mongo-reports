{
 "cells": [
  {
   "cell_type": "code",
   "execution_count": 1,
   "metadata": {},
   "outputs": [],
   "source": [
    "import csv\n",
    "import re\n",
    "import time\n",
    "import datetime\n",
    "import os\n",
    "\n",
    "import warnings\n",
    "warnings.filterwarnings(\"ignore\", category=DeprecationWarning)\n",
    "\n",
    "import pandas as pd\n",
    "from openpyxl import load_workbook\n",
    "\n",
    "import configparser \n",
    "config = configparser.ConfigParser()\n",
    "config.read('config.ini')\n",
    "ip = config['DEFAULT']['IP']\n",
    "port = config['DEFAULT']['MongoDB-Port']\n",
    "\n",
    "from pymongo import MongoClient\n",
    "client = MongoClient(ip, int(port))"
   ]
  },
  {
   "cell_type": "code",
   "execution_count": 2,
   "metadata": {},
   "outputs": [],
   "source": [
    "db_twitter = client[\"Twitter\"]\n",
    "collections_twitter = db_twitter.collection_names()"
   ]
  },
  {
   "cell_type": "code",
   "execution_count": 3,
   "metadata": {},
   "outputs": [
    {
     "name": "stdout",
     "output_type": "stream",
     "text": [
      "current year : 2019\n",
      "current week : 12\n"
     ]
    }
   ],
   "source": [
    "current_timestamp = int(time.time() * 1000)\n",
    "current_year = int(datetime.datetime.now().year)\n",
    "print(\"current year : \" + str(current_year))\n",
    "\n",
    "current_week = int((current_timestamp - 1546214400000)/1000/604800)+1\n",
    "print(\"current week : \" + str(current_week))"
   ]
  },
  {
   "cell_type": "code",
   "execution_count": 6,
   "metadata": {},
   "outputs": [
    {
     "name": "stdout",
     "output_type": "stream",
     "text": [
      "2019_W11_Twitter_Australia: 68,593\n",
      "2019_W11_Twitter_Other: 25,345,811\n",
      "2019_W12_Twitter_Australia: 2,110\n",
      "2019_W12_Twitter_Other: 597,613\n"
     ]
    }
   ],
   "source": [
    "dic_collection = {}\n",
    "for i in collections_twitter:\n",
    "    if i.startswith(\"20\"):\n",
    "        year = i[0:4]\n",
    "        week = re.search('_(.+?)_', i).group(1)[1:]\n",
    "        try:\n",
    "            if (int(year) == current_year) and (int(week) >= current_week-1):\n",
    "                dic_collection[i] = \"{:,}\".format(db_twitter[i].find({}).count())\n",
    "        except: pass\n",
    "\n",
    "for key in sorted(dic_collection):\n",
    "    print(\"%s: %s\" % (key, dic_collection[key]))"
   ]
  },
  {
   "cell_type": "markdown",
   "metadata": {},
   "source": [
    "# Extract a hashtag histogram from individual collections"
   ]
  },
  {
   "cell_type": "markdown",
   "metadata": {},
   "source": [
    "## 1: iterate all records which have hashtag"
   ]
  },
  {
   "cell_type": "code",
   "execution_count": null,
   "metadata": {},
   "outputs": [],
   "source": [
    "pipeline = [\n",
    "    {\"$match\": { \"entities.hashtags\": {\"$exists\":True,\"$ne\":[]}}},\n",
    "    {\"$match\": { \"lang\" : \"en\"}},\n",
    "    { \"$group\": {\n",
    "        \"_id\": \"$entities.hashtags\",\n",
    "        \"count\": { \"$sum\": 1 },\n",
    "        }\n",
    "    }\n",
    "]"
   ]
  },
  {
   "cell_type": "code",
   "execution_count": null,
   "metadata": {},
   "outputs": [],
   "source": [
    "csv_columns = ['hashtag','count']\n",
    "\n",
    "for collection in sorted(dic_collection):\n",
    "    print(\"-------------------\\n\")\n",
    "    print(\"Processing on collection: \" + collection)\n",
    "    \n",
    "    hashtag_list={}\n",
    "    data = list(db_twitter[collection].aggregate(pipeline,allowDiskUse=True))\n",
    "    if len(data) > 0 : \n",
    "        for i in range(len(data)):\n",
    "            for j in data[i][\"_id\"]:\n",
    "                h = j[\"text\"].lower()\n",
    "                if(re.match(\"^[a-zA-Z0-9]*$\",h)):\n",
    "                    if len(hashtag_list)>0:\n",
    "                        if h in hashtag_list:\n",
    "                            hashtag_list[h] += data[i][\"count\"]\n",
    "                        else:\n",
    "                            hashtag_list[h] = data[i][\"count\"]\n",
    "                    else:\n",
    "                        hashtag_list[h] = data[i][\"count\"]\n",
    "    print(\"hashtag_list is finished\")\n",
    "    \n",
    "    #create folder if not exist\n",
    "    folder = \"output/hashtag_histogram/\"\n",
    "    if not os.path.exists(folder):\n",
    "        os.makedirs(folder)\n",
    "        \n",
    "    csv_file = \"output/hashtag_histogram/{\" + collection + \"}_hashtag_histogram.csv\"\n",
    "    try:\n",
    "        with open(csv_file, 'w') as csvfile:\n",
    "            writer = csv.DictWriter(csvfile, fieldnames=csv_columns)\n",
    "            writer.writeheader()\n",
    "            for key in hashtag_list.keys():\n",
    "                csvfile.write(\"%s,%s\\n\"%(key,hashtag_list[key]))\n",
    "        print(\"csvfile for collection \"+ collection + \"is done.\")\n",
    "        print(\"-------------------\\n\")\n",
    "    except IOError:\n",
    "        print(\"I/O error\")\n",
    "        print(\"-------------------\\n\")\n",
    "        "
   ]
  },
  {
   "cell_type": "code",
   "execution_count": null,
   "metadata": {},
   "outputs": [],
   "source": []
  }
 ],
 "metadata": {
  "kernelspec": {
   "display_name": "Python 3",
   "language": "python",
   "name": "python3"
  },
  "language_info": {
   "codemirror_mode": {
    "name": "ipython",
    "version": 3
   },
   "file_extension": ".py",
   "mimetype": "text/x-python",
   "name": "python",
   "nbconvert_exporter": "python",
   "pygments_lexer": "ipython3",
   "version": "3.6.4"
  }
 },
 "nbformat": 4,
 "nbformat_minor": 2
}
