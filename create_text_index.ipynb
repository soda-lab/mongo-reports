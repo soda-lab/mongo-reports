{
 "cells": [
  {
   "cell_type": "code",
   "execution_count": 1,
   "metadata": {},
   "outputs": [],
   "source": [
    "import warnings\n",
    "warnings.filterwarnings(\"ignore\", category=DeprecationWarning)\n",
    "\n",
    "import configparser \n",
    "config = configparser.ConfigParser()\n",
    "config.read('config.ini')\n",
    "ip = config['DEFAULT']['IP']\n",
    "port = config['DEFAULT']['MongoDB-Port']\n",
    "\n",
    "import pymongo\n",
    "from pymongo import MongoClient\n",
    "client = MongoClient(ip, int(port))"
   ]
  },
  {
   "cell_type": "code",
   "execution_count": 2,
   "metadata": {},
   "outputs": [],
   "source": [
    "db_twitter = client[\"Twitter\"]\n",
    "collections_twitter = db_twitter.collection_names()"
   ]
  },
  {
   "cell_type": "code",
   "execution_count": 3,
   "metadata": {},
   "outputs": [
    {
     "name": "stdout",
     "output_type": "stream",
     "text": [
      "2018_W51_Twitter_Australia: 20,471\n",
      "2018_W51_Twitter_Other: 8,978,243\n",
      "2018_W52_Twitter_Australia: 38,065\n",
      "2018_W52_Twitter_Other: 16,940,708\n",
      "2019_W10_Twitter_Australia: 40,767\n",
      "2019_W10_Twitter_Other: 15,941,350\n",
      "2019_W11_Twitter_Australia: 30,436\n",
      "2019_W11_Twitter_Other: 11,669,385\n",
      "2019_W1_Twitter_Australia: 40,880\n",
      "2019_W1_Twitter_Other: 16,994,959\n",
      "2019_W2_Twitter_Australia: 37,645\n",
      "2019_W2_Twitter_Other: 14,474,627\n",
      "2019_W3_Twitter_Australia: 52,348\n",
      "2019_W3_Twitter_Other: 20,416,992\n",
      "2019_W4_Twitter_Australia: 59,625\n",
      "2019_W4_Twitter_Other: 23,417,927\n",
      "2019_W5_Twitter_Australia: 61,617\n",
      "2019_W5_Twitter_Other: 23,917,345\n",
      "2019_W6_Twitter_Australia: 61,435\n",
      "2019_W6_Twitter_Other: 24,176,122\n",
      "2019_W7_Twitter_Australia: 28,017\n",
      "2019_W7_Twitter_Other: 10,484,648\n",
      "2019_W8_Twitter_Australia: 60,035\n",
      "2019_W8_Twitter_Other: 23,446,630\n",
      "2019_W9_Twitter_Australia: 58,316\n",
      "2019_W9_Twitter_Other: 22,293,795\n"
     ]
    }
   ],
   "source": [
    "dic_collection = {}\n",
    "for i in collections_twitter:\n",
    "    if i.startswith(\"20\"):\n",
    "        dic_collection[i] = \"{:,}\".format(db_twitter[i].find({}).count())\n",
    "\n",
    "for key in sorted(dic_collection):\n",
    "    print(\"%s: %s\" % (key, dic_collection[key]))"
   ]
  },
  {
   "cell_type": "code",
   "execution_count": null,
   "metadata": {},
   "outputs": [],
   "source": [
    "for collection in sorted(dic_collection):\n",
    "    exist = 0\n",
    "    index_information = db_twitter[collection].index_information()\n",
    "    for index in index_information:\n",
    "        if index == \"text_text\":\n",
    "            exist = 1\n",
    "            print(\"Text index exists in \" + collection)\n",
    "    if exist == 0:\n",
    "        print(\"No text index exists in \" + collection)\n",
    "        print(\"creating text index....\")\n",
    "        #db_twitter[collection].create_index([(\"text\", pymongo.TEXT)])\n",
    "        print(\"Text index for \" + collection + \" is done.\")\n",
    "        break"
   ]
  },
  {
   "cell_type": "code",
   "execution_count": null,
   "metadata": {},
   "outputs": [],
   "source": []
  }
 ],
 "metadata": {
  "kernelspec": {
   "display_name": "Python 3",
   "language": "python",
   "name": "python3"
  },
  "language_info": {
   "codemirror_mode": {
    "name": "ipython",
    "version": 3
   },
   "file_extension": ".py",
   "mimetype": "text/x-python",
   "name": "python",
   "nbconvert_exporter": "python",
   "pygments_lexer": "ipython3",
   "version": "3.6.4"
  }
 },
 "nbformat": 4,
 "nbformat_minor": 2
}
