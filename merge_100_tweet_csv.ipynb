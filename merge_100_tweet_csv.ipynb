{
 "cells": [
  {
   "cell_type": "code",
   "execution_count": 3,
   "metadata": {},
   "outputs": [],
   "source": [
    "import glob\n",
    "import csv\n",
    "import os\n",
    "import re\n",
    "import datetime\n",
    "import calendar\n",
    "import configparser \n",
    "\n",
    "import time\n",
    "import datetime\n",
    "import pymongo\n",
    "from pymongo import MongoClient\n",
    "\n",
    "import warnings\n",
    "warnings.filterwarnings(\"ignore\", category=DeprecationWarning)\n",
    "\n",
    "# set folder name in config.ini\n",
    "config = configparser.ConfigParser()\n",
    "config.read('config.ini')\n",
    "folder_name = config['DEFAULT']['Folder-Name']\n",
    "ip = config['DEFAULT']['IP']\n",
    "port = config['DEFAULT']['MongoDB-Port']"
   ]
  },
  {
   "cell_type": "code",
   "execution_count": 4,
   "metadata": {},
   "outputs": [
    {
     "name": "stdout",
     "output_type": "stream",
     "text": [
      "File hashtag_100_tweets_merged_data.csv is ready\n"
     ]
    }
   ],
   "source": [
    "# create folder if not exist\n",
    "folder = \"output/merged_csv/\"\n",
    "if not os.path.exists(folder):\n",
    "    os.makedirs(folder)\n",
    "\n",
    "# get folder for file_reader and file_writer\n",
    "data_path = \"output/\" + folder_name\n",
    "outfile_path = folder + folder_name + \"_merged_data.csv\"\n",
    "file_writer = csv.writer(open(outfile_path,'w'))\n",
    "\n",
    "file_counter = 0\n",
    "\n",
    "# read all csv files from the dictionary\n",
    "for input_file in glob.glob(os.path.join(data_path,'*.csv')):\n",
    "    \n",
    "    # get specific substring as the name of new column\n",
    "    collection_name = re.search('{(.+?)}', input_file).group(1)\n",
    "    year = collection_name[0:4]\n",
    "    week = re.search('_(.+?)_', collection_name).group(1)[1:]\n",
    "    country = collection_name.split('_')[-1]\n",
    "    \n",
    "    # read rows from the input csv files and write into the output csv file\n",
    "    with open(input_file,'r') as csv_file:\n",
    "        file_reader = csv.reader(csv_file,delimiter=',')\n",
    "        \n",
    "        if file_counter < 1:\n",
    "            for i, row in enumerate(file_reader):\n",
    "                if i==0:\n",
    "                    row.append('year')\n",
    "                    row.append('week')\n",
    "                    row.append(\"collection_name\")\n",
    "                else: \n",
    "                    row.append(year)\n",
    "                    row.append(week)\n",
    "                    row.append(\"Twitter \"+ country)\n",
    "                file_writer.writerow(row)\n",
    "        else:\n",
    "            header = next(file_reader,None)\n",
    "            for row in file_reader:\n",
    "                row.append(year)\n",
    "                row.append(week)\n",
    "                row.append(\"Twitter \"+ country)\n",
    "                file_writer.writerow(row)\n",
    "    file_counter += 1\n",
    "    \n",
    "print(\"File \" + folder_name + \"_merged_data.csv is ready\")"
   ]
  },
  {
   "cell_type": "code",
   "execution_count": null,
   "metadata": {},
   "outputs": [],
   "source": []
  }
 ],
 "metadata": {
  "kernelspec": {
   "display_name": "Python 3",
   "language": "python",
   "name": "python3"
  },
  "language_info": {
   "codemirror_mode": {
    "name": "ipython",
    "version": 3
   },
   "file_extension": ".py",
   "mimetype": "text/x-python",
   "name": "python",
   "nbconvert_exporter": "python",
   "pygments_lexer": "ipython3",
   "version": "3.6.4"
  }
 },
 "nbformat": 4,
 "nbformat_minor": 2
}
