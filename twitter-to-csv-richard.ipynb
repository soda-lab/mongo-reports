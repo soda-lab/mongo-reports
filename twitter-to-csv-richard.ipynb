{
 "cells": [
  {
   "cell_type": "code",
   "execution_count": 65,
   "metadata": {},
   "outputs": [],
   "source": [
    "import warnings\n",
    "from geopy.geocoders import ArcGIS\n",
    "geocoder = ArcGIS()\n",
    "\n",
    "warnings.filterwarnings(\"ignore\", category=DeprecationWarning)\n",
    "\n",
    "import configparser \n",
    "config = configparser.ConfigParser()\n",
    "config.read('config.ini')\n",
    "ip = config['DEFAULT']['IP']\n",
    "port = config['DEFAULT']['MongoDB-Port']\n",
    "\n",
    "from pymongo import MongoClient\n",
    "client = MongoClient(ip, int(port))"
   ]
  },
  {
   "cell_type": "code",
   "execution_count": 66,
   "metadata": {},
   "outputs": [],
   "source": [
    "collection = client['Twitter']['twitter-other']"
   ]
  },
  {
   "cell_type": "code",
   "execution_count": 60,
   "metadata": {},
   "outputs": [
    {
     "name": "stdout",
     "output_type": "stream",
     "text": [
      "2\n",
      "2\n",
      "2\n",
      "2\n",
      "2\n",
      "2\n",
      "2\n",
      "2\n",
      "2\n",
      "2\n"
     ]
    }
   ],
   "source": [
    "# Add location field\n",
    "for tweet in collection.find({'$or': [{'doc.geo': {'$ne': 'null'}}, {'doc.coordinates': {'$ne': 'null'}}, {'doc.place': {'$ne': 'null'}}]}):\n",
    "    if tweet['doc']['geo'] != 'null':\n",
    "        lat = \n",
    "        location = geocoder.reverse(lat, long)\n",
    "        if location != None:\n",
    "            collection.find_one_and_update({'doc.id': tweet['doc']['id']}, {'$set': {'location': location.raw['Neighborhood']}})\n",
    "            continue\n",
    "    if tweet['doc']['coordinates'] != 'null':\n",
    "        print('3')"
   ]
  },
  {
   "cell_type": "code",
   "execution_count": null,
   "metadata": {},
   "outputs": [],
   "source": [
    "keywords = ['family violence', 'domestic violence', '#vaw', '#evaw', '#pvw', '#toxicmasculinity', '#slutshaming', '#notallmen', '#malechampionsofchange', '#namalt', '#feminazi', '#tinderslut', 'Luke Batty', 'Rosie Batty', 'Eurydice Dixon', '@OurWatchAus', '#stopitatthestart', '#freefromviolence', '#howiwillchange', '#respectwomen', '#callitout', '#orangecard']\n",
    "for keyword in keywords:\n",
    "    tweets = list(db_twitter[\"twitter-temp\"].find({\"doc.text\":{\"$regex\":\".*\"+keyword+\".*\", '$options' : 'i'}}))\n",
    "    print(len(tweets))"
   ]
  },
  {
   "cell_type": "code",
   "execution_count": 21,
   "metadata": {},
   "outputs": [],
   "source": [
    "import twitter\n",
    "\n",
    "api = twitter.Api(consumer_key='bhnwy7L8zKWwZGsljOeJDSnPf',\n",
    "                  consumer_secret='nPyTwiGZxdgMs3SUjEcfY72u7j9BsB8c9JjGgl2yZTAsHYBDiL',\n",
    "                  access_token_key='835404171335479296-bftKo65lqhjA2UwIV9jRCZGxkwOMy6a',\n",
    "                  access_token_secret='wbXNX0N3O0SyFqx4MvJFHiYbunfUcV6ZamqN8jFcr6XAy',\n",
    "                 tweet_mode= 'extended')\n",
    "\n",
    "try:\n",
    "    tweet = api.GetStatus(\"914278688320929792\")\n",
    "    print(tweet)\n",
    "except:\n",
    "    pass"
   ]
  },
  {
   "cell_type": "code",
   "execution_count": 64,
   "metadata": {},
   "outputs": [
    {
     "name": "stdout",
     "output_type": "stream",
     "text": [
      "None\n"
     ]
    }
   ],
   "source": [
    "from geopy.geocoders import ArcGIS\n",
    "\n",
    "geocoder = ArcGIS()\n",
    "location = geocoder.reverse(\"-37.899068, 114.987755\")\n",
    "try:\n",
    "    print(location.raw['Neighborhood'])\n",
    "except:\n",
    "    print(location)"
   ]
  },
  {
   "cell_type": "code",
   "execution_count": null,
   "metadata": {},
   "outputs": [],
   "source": []
  }
 ],
 "metadata": {
  "kernelspec": {
   "display_name": "Python 3",
   "language": "python",
   "name": "python3"
  },
  "language_info": {
   "codemirror_mode": {
    "name": "ipython",
    "version": 3
   },
   "file_extension": ".py",
   "mimetype": "text/x-python",
   "name": "python",
   "nbconvert_exporter": "python",
   "pygments_lexer": "ipython3",
   "version": "3.7.2"
  }
 },
 "nbformat": 4,
 "nbformat_minor": 2
}
